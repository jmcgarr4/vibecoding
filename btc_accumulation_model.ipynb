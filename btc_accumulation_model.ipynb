{
 "cells": [
  {
   "cell_type": "markdown",
   "id": "b7a49d2f",
   "metadata": {},
   "source": [
    "# Bitcoin Accumulation Model - Final Report\n",
    "Date: July.8.2025\n",
    "\n",
    "Author: Team22: Kexuan Shao, Jim McGarr "
   ]
  },
  {
   "cell_type": "markdown",
   "id": "15bbb4ff",
   "metadata": {},
   "source": [
    "## 1. Executive Summary\n",
    "\n",
    "- Project objective: \n",
    "\n",
    "        - To design and evaluate data-driven Bitcoin accumulation strategies that outperform simple Dollar-Cost Averaging (DCA) in a competitive acquisition environment. \n",
    "        - We followed two complementary strategies in order to test their relative strengths for bitcin accumulation as compared to DCA.\n",
    "\n",
    "- Modeling Approaches:\n",
    "\n",
    "       - MODEL 1, a LightGBM Model: A gradient-boosted tree ensemble, aiming to learn nonlinear relationships across important variables.\n",
    "\n",
    "       - MODEL 2, a GRU Timeseries Model: A neural network considering short-term predictive signals in daily timeseries data.\n",
    "\n",
    "       - By designing and testing two models, we were able to explore two different, yet compatible, attemps to improve on DCA: a focus on daily, short-term signals vs longer-standing relationships between key variables. Would better results be achieved via tactical time-series analysis, or via using more structural signals?\n",
    "\n",
    "- Key findings: \n",
    "\n",
    "       - Model 1: The LightGBM Bitcoin accumulation model demonstrates consistent outperformance with a 65.33% win rate against regular DCA across 4,750 investment windows, successfully beating the baseline strategy in nearly two-thirds of all tested scenarios. While recent market conditions have challenged the model (41.76th percentile in current performance), this provides valuable insights into market regime changes and opportunities for model enhancement. The overall performance score of 53.55% establishes a solid foundation that, combined with our discovered market patterns, points toward exciting development possibilities.\n",
    "\n",
    "       - Model 2: The GRU timeseries-focused model includes stochastic properties due to its underlying neural net approach. The win rate across multiple models runs ranges from 72% to 78%, with a median win rate of ~75% vs DCA; and the Exponential-Decay Average SPD Percentile is ~45th, resulting in a Final Model Score of 60%.\n",
    "\n",
    "       - Model Comparison: The GRU model demonstrated a higher win rate and Final Model Score, howeever at the cost of transparency and interpretability. LightGBM provides more clear insights on a feature-level (MVRV, seasonality), that may provide further insights and room for development. Taking a combined approach to bitcoin allocation may create a stronger allocation approach.\n",
    "\n",
    "- Business implications:\n",
    "\n",
    "The combination of the LightGBM and GRU models uncovers opportunities to create high-value products and services:\n",
    "\n",
    "       - Our analysis revealed powerful indicators like the MVRV < 1.0 buy signal and strong Q4 seasonality patterns that can be packaged into premium investment alerts.\n",
    "\n",
    "       - GRU probability-weighted daily allocation signals can be automated into daily purchase recommendations, appealing to potentia clients that prefer tactical improvements to their accumulation strategies.\n",
    "\n",
    "       - The discovery that 57% of Bitcoin's market variance stems from supply distribution shifts opens doors for an innovative market intelligence dashboard that tracks ownership dynamics.\n",
    "\n",
    "       - Rather than viewing the current model as the end product, it serves as a research platform that has identified multiple revenue streams: tiered alert services, educational content around our \"dormant supply = bullish\" finding, and potential exchange partnerships for enhanced data access. This positions us to launch immediately profitable products while continuing to refine our ML capabilities for future deployment.\n",
    "\n",
    "- Recommendations for further development:\n",
    "\n",
    "        - Simple rule-based systems using MVRV < 1.0 and Q4 seasonality signals, provide solid results with high interpretability\n",
    "       \n",
    "       - Launch a Bitcoin Market Intelligence Dashboard - Track supply distribution metrics (57% of market variance) and exchange flows rather than price predictions\n",
    "       \n",
    "       - Develop educational content around the \"dormant supply = bullish\" insight, as this counterintuitive finding has strong marketing potential\n",
    "        \n",
    "       - Partner with exchanges to access better flow data, since exchange activity proved more predictive than whale watching\n",
    "        \n",
    "       - Test a hybrid DCA+ strategy - Regular DCA with 20-30% allocation flexibility during extreme MVRV/seasonality conditions, reducing risk while capturing some upside\n",
    "        \n",
    "   "
   ]
  },
  {
   "cell_type": "markdown",
   "id": "2ed08641",
   "metadata": {},
   "source": [
    "## 2. Exploratory Data Analysis Highlights\n",
    "\n",
    "For complete analysis, see: [EDA Notebook](eda_notebook.ipynb)"
   ]
  },
  {
   "cell_type": "markdown",
   "id": "c64efaf3",
   "metadata": {},
   "source": [
    "## 3. Model Explanation\n",
    "\n",
    "For full model development and implementation details, refer to [Model Development Template - LightGBM.ipynb](Model%20Development%20Template%20-%20LightGBM.ipynb)"
   ]
  }
 ],
 "metadata": {
  "kernelspec": {
   "display_name": "Python 3",
   "language": "python",
   "name": "python3"
  },
  "language_info": {
   "codemirror_mode": {
    "name": "ipython",
    "version": 3
   },
   "file_extension": ".py",
   "mimetype": "text/x-python",
   "name": "python",
   "nbconvert_exporter": "python",
   "pygments_lexer": "ipython3",
   "version": "3.8.8"
  }
 },
 "nbformat": 4,
 "nbformat_minor": 5
}
